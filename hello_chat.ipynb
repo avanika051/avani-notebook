{
 "cells": [
  {
   "cell_type": "markdown",
   "id": "d27172d1",
   "metadata": {},
   "source": [
    "# 👋 Hello, Chat Notebook!"
   ]
  },
  {
   "cell_type": "code",
   "execution_count": null,
   "id": "94f4860a",
   "metadata": {},
   "outputs": [],
   "source": [
    "print(\"Hello Chat!\")"
   ]
  }
 ],
 "metadata": {},
 "nbformat": 4,
 "nbformat_minor": 5
}
